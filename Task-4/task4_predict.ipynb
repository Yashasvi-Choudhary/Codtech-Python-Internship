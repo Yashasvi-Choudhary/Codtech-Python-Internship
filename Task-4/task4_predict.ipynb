{
 "cells": [
  {
   "cell_type": "code",
   "execution_count": 5,
   "id": "7a1a2f56-1e40-473b-907b-9fee30c6e31a",
   "metadata": {},
   "outputs": [
    {
     "name": "stdout",
     "output_type": "stream",
     "text": [
      "🔹 Dataset Sample (first 5 rows):\n",
      "   sepal length (cm)  sepal width (cm)  petal length (cm)  petal width (cm)  \\\n",
      "0                5.1               3.5                1.4               0.2   \n",
      "1                4.9               3.0                1.4               0.2   \n",
      "2                4.7               3.2                1.3               0.2   \n",
      "3                4.6               3.1                1.5               0.2   \n",
      "4                5.0               3.6                1.4               0.2   \n",
      "\n",
      "   target  \n",
      "0       0  \n",
      "1       0  \n",
      "2       0  \n",
      "3       0  \n",
      "4       0  \n",
      "\n",
      "✅ Model Evaluation:\n",
      "Accuracy: 0.9333333333333333\n",
      "\n",
      "Classification Report:\n",
      "               precision    recall  f1-score   support\n",
      "\n",
      "      setosa       1.00      1.00      1.00         6\n",
      "  versicolor       1.00      0.50      0.67         2\n",
      "   virginica       0.88      1.00      0.93         7\n",
      "\n",
      "    accuracy                           0.93        15\n",
      "   macro avg       0.96      0.83      0.87        15\n",
      "weighted avg       0.94      0.93      0.92        15\n",
      "\n",
      "\n",
      "Confusion Matrix:\n",
      " [[6 0 0]\n",
      " [0 1 1]\n",
      " [0 0 7]]\n"
     ]
    }
   ],
   "source": [
    "# 📌 Internship Task-4: Machine Learning Model (Classification with Iris Dataset)\n",
    "\n",
    "# Step 1: Import Libraries\n",
    "import pandas as pd\n",
    "import numpy as np\n",
    "from sklearn.datasets import load_iris\n",
    "from sklearn.model_selection import train_test_split\n",
    "from sklearn.linear_model import LogisticRegression\n",
    "from sklearn.metrics import accuracy_score, classification_report, confusion_matrix\n",
    "\n",
    "# Step 2: Load Dataset\n",
    "iris = load_iris()\n",
    "df = pd.DataFrame(data=iris.data, columns=iris.feature_names)\n",
    "df['target'] = iris.target\n",
    "\n",
    "print(\"🔹 Dataset Sample (first 5 rows):\")\n",
    "print(df.head())\n",
    "\n",
    "# Step 3: Define Features (X) and Labels (y)\n",
    "X = df[iris.feature_names]\n",
    "y = df['target']\n",
    "\n",
    "# Step 4: Train-Test Split\n",
    "X_train, X_test, y_train, y_test = train_test_split(X, y, test_size=0.1)\n",
    "\n",
    "# Step 5: Train Model (Logistic Regression)\n",
    "model = LogisticRegression(max_iter=200)  # increase iterations to avoid convergence warnings\n",
    "model.fit(X_train, y_train)\n",
    "\n",
    "# Step 6: Predictions\n",
    "y_pred = model.predict(X_test)\n",
    "\n",
    "# Step 7: Evaluation\n",
    "print(\"\\n✅ Model Evaluation:\")\n",
    "print(\"Accuracy:\", accuracy_score(y_test, y_pred))\n",
    "print(\"\\nClassification Report:\\n\", classification_report(y_test, y_pred, target_names=iris.target_names))\n",
    "print(\"\\nConfusion Matrix:\\n\", confusion_matrix(y_test, y_pred))\n"
   ]
  },
  {
   "cell_type": "code",
   "execution_count": null,
   "id": "d5890bdd-1f57-4af6-adf8-b80fc6111410",
   "metadata": {},
   "outputs": [],
   "source": []
  }
 ],
 "metadata": {
  "kernelspec": {
   "display_name": "Python [conda env:base] *",
   "language": "python",
   "name": "conda-base-py"
  },
  "language_info": {
   "codemirror_mode": {
    "name": "ipython",
    "version": 3
   },
   "file_extension": ".py",
   "mimetype": "text/x-python",
   "name": "python",
   "nbconvert_exporter": "python",
   "pygments_lexer": "ipython3",
   "version": "3.13.5"
  }
 },
 "nbformat": 4,
 "nbformat_minor": 5
}
