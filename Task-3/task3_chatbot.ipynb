{
 "cells": [
  {
   "cell_type": "code",
   "execution_count": null,
   "id": "c6f29164-66aa-4280-ae7a-14707a0391b2",
   "metadata": {},
   "outputs": [
    {
     "name": "stderr",
     "output_type": "stream",
     "text": [
      "[nltk_data] Downloading package wordnet to\n",
      "[nltk_data]     C:\\Users\\yasha\\AppData\\Roaming\\nltk_data...\n",
      "[nltk_data]   Package wordnet is already up-to-date!\n",
      "[nltk_data] Downloading package omw-1.4 to\n",
      "[nltk_data]     C:\\Users\\yasha\\AppData\\Roaming\\nltk_data...\n"
     ]
    },
    {
     "name": "stdout",
     "output_type": "stream",
     "text": [
      "🤖 Chatbot: Hi! I’m your Python chatbot. Type 'bye' to exit.\n"
     ]
    },
    {
     "name": "stdin",
     "output_type": "stream",
     "text": [
      "🧑 You:  hello\n"
     ]
    },
    {
     "name": "stdout",
     "output_type": "stream",
     "text": [
      "🤖 Chatbot: Hello! How can I help you today?\n"
     ]
    },
    {
     "name": "stdin",
     "output_type": "stream",
     "text": [
      "🧑 You:  your name\n"
     ]
    },
    {
     "name": "stdout",
     "output_type": "stream",
     "text": [
      "🤖 Chatbot: Sorry, I didn’t understand that. Try asking about Python, NLP, or greetings!\n"
     ]
    },
    {
     "name": "stdin",
     "output_type": "stream",
     "text": [
      "🧑 You:  what is your Name\n"
     ]
    },
    {
     "name": "stdout",
     "output_type": "stream",
     "text": [
      "🤖 Chatbot: I’m a simple Python chatbot created for CodTech Task 3.\n"
     ]
    },
    {
     "name": "stdin",
     "output_type": "stream",
     "text": [
      "🧑 You:  python\n"
     ]
    },
    {
     "name": "stdout",
     "output_type": "stream",
     "text": [
      "🤖 Chatbot: Python is a high-level, interpreted programming language great for AI, ML, and web development.\n"
     ]
    },
    {
     "name": "stdin",
     "output_type": "stream",
     "text": [
      "🧑 You:  nlp\n"
     ]
    },
    {
     "name": "stdout",
     "output_type": "stream",
     "text": [
      "🤖 Chatbot: NLP stands for Natural Language Processing. It helps machines understand human language.\n"
     ]
    }
   ],
   "source": [
    "import nltk\n",
    "import string\n",
    "from nltk.stem import WordNetLemmatizer\n",
    "\n",
    "# Download necessary resources\n",
    "nltk.download('wordnet')\n",
    "nltk.download('omw-1.4')\n",
    "\n",
    "lemmatizer = WordNetLemmatizer()\n",
    "\n",
    "# --------- Predefined Responses ---------\n",
    "responses = {\n",
    "    \"hello\": \"Hello! How can I help you today?\",\n",
    "    \"hi\": \"Hi there! What can I do for you?\",\n",
    "    \"how are you\": \"I'm just a bot, but I'm doing fine! How can I assist you?\",\n",
    "    \"what is your name\": \"I’m a simple Python chatbot created for CodTech Task 3.\",\n",
    "    \"bye\": \"Goodbye! Have a great day!\",\n",
    "    \"help\": \"Sure! I can answer greetings, tell you my name, or just chat with you!\",\n",
    "    \"python\": \"Python is a high-level, interpreted programming language great for AI, ML, and web development.\",\n",
    "    \"nlp\": \"NLP stands for Natural Language Processing. It helps machines understand human language.\",\n",
    "}\n",
    "\n",
    "# --------- Preprocessing Function ---------\n",
    "def preprocess(text):\n",
    "    text = text.lower()\n",
    "    for p in string.punctuation:\n",
    "        text = text.replace(p, \"\")\n",
    "    words = text.split()\n",
    "    lemmas = [lemmatizer.lemmatize(word) for word in words]\n",
    "    return \" \".join(lemmas)\n",
    "\n",
    "# --------- Chatbot Response ---------\n",
    "def get_response(user_input):\n",
    "    cleaned_input = preprocess(user_input)\n",
    "    for key in responses:\n",
    "        if key in cleaned_input:\n",
    "            return responses[key]\n",
    "    return \"Sorry, I didn’t understand that. Try asking about Python, NLP, or greetings!\"\n",
    "\n",
    "# --------- Chatbot Loop ---------\n",
    "print(\"🤖 Chatbot: Hi! I’m your Python chatbot. Type 'bye' to exit.\")\n",
    "while True:\n",
    "    user_input = input(\"🧑 You: \")\n",
    "    if user_input.lower() == \"bye\":\n",
    "        print(\"🤖 Chatbot:\", responses[\"bye\"])\n",
    "        break\n",
    "    print(\"🤖 Chatbot:\", get_response(user_input))\n"
   ]
  },
  {
   "cell_type": "code",
   "execution_count": null,
   "id": "26f391c1-f1c6-41dd-ba98-1d196c3adc94",
   "metadata": {},
   "outputs": [],
   "source": []
  }
 ],
 "metadata": {
  "kernelspec": {
   "display_name": "Python [conda env:base] *",
   "language": "python",
   "name": "conda-base-py"
  },
  "language_info": {
   "codemirror_mode": {
    "name": "ipython",
    "version": 3
   },
   "file_extension": ".py",
   "mimetype": "text/x-python",
   "name": "python",
   "nbconvert_exporter": "python",
   "pygments_lexer": "ipython3",
   "version": "3.13.5"
  }
 },
 "nbformat": 4,
 "nbformat_minor": 5
}
